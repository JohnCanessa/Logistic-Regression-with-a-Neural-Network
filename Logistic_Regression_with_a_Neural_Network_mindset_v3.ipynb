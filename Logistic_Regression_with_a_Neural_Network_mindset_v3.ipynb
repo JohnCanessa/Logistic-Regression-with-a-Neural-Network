{
 "cells": [
  {
   "cell_type": "markdown",
   "metadata": {
    "toc": "true"
   },
   "source": [
    "# Table of Contents\n",
    " <p><div class=\"lev1 toc-item\"><a href=\"#Logistic-Regression-with-a-Neural-Network-mindset\" data-toc-modified-id=\"Logistic-Regression-with-a-Neural-Network-mindset-1\"><span class=\"toc-item-num\">1&nbsp;&nbsp;</span>Logistic Regression with a Neural Network mindset</a></div><div class=\"lev2 toc-item\"><a href=\"#1---Packages\" data-toc-modified-id=\"1---Packages-11\"><span class=\"toc-item-num\">1.1&nbsp;&nbsp;</span>1 - Packages</a></div><div class=\"lev1 toc-item\"><a href=\"#%load-lr_utils.py\" data-toc-modified-id=\"%load-lr_utils.py-2\"><span class=\"toc-item-num\">2&nbsp;&nbsp;</span>%load lr_utils.py</a></div><div class=\"lev2 toc-item\"><a href=\"#2---Overview-of-the-Problem-set\" data-toc-modified-id=\"2---Overview-of-the-Problem-set-21\"><span class=\"toc-item-num\">2.1&nbsp;&nbsp;</span>2 - Overview of the Problem set</a></div><div class=\"lev2 toc-item\"><a href=\"#3---General-Architecture-of-the-learning-algorithm\" data-toc-modified-id=\"3---General-Architecture-of-the-learning-algorithm-22\"><span class=\"toc-item-num\">2.2&nbsp;&nbsp;</span>3 - General Architecture of the learning algorithm</a></div><div class=\"lev2 toc-item\"><a href=\"#4---Building-the-parts-of-our-algorithm\" data-toc-modified-id=\"4---Building-the-parts-of-our-algorithm-23\"><span class=\"toc-item-num\">2.3&nbsp;&nbsp;</span>4 - Building the parts of our algorithm</a></div><div class=\"lev3 toc-item\"><a href=\"#4.1---Helper-functions\" data-toc-modified-id=\"4.1---Helper-functions-231\"><span class=\"toc-item-num\">2.3.1&nbsp;&nbsp;</span>4.1 - Helper functions</a></div><div class=\"lev3 toc-item\"><a href=\"#4.2---Initializing-parameters\" data-toc-modified-id=\"4.2---Initializing-parameters-232\"><span class=\"toc-item-num\">2.3.2&nbsp;&nbsp;</span>4.2 - Initializing parameters</a></div><div class=\"lev3 toc-item\"><a href=\"#4.3---Forward-and-Backward-propagation\" data-toc-modified-id=\"4.3---Forward-and-Backward-propagation-233\"><span class=\"toc-item-num\">2.3.3&nbsp;&nbsp;</span>4.3 - Forward and Backward propagation</a></div><div class=\"lev3 toc-item\"><a href=\"#d)-Optimization\" data-toc-modified-id=\"d)-Optimization-234\"><span class=\"toc-item-num\">2.3.4&nbsp;&nbsp;</span>d) Optimization</a></div><div class=\"lev2 toc-item\"><a href=\"#5---Merge-all-functions-into-a-model\" data-toc-modified-id=\"5---Merge-all-functions-into-a-model-24\"><span class=\"toc-item-num\">2.4&nbsp;&nbsp;</span>5 - Merge all functions into a model</a></div><div class=\"lev2 toc-item\"><a href=\"#6---Further-analysis-(optional/ungraded-exercise)\" data-toc-modified-id=\"6---Further-analysis-(optional/ungraded-exercise)-25\"><span class=\"toc-item-num\">2.5&nbsp;&nbsp;</span>6 - Further analysis (optional/ungraded exercise)</a></div><div class=\"lev4 toc-item\"><a href=\"#Choice-of-learning-rate\" data-toc-modified-id=\"Choice-of-learning-rate-2501\"><span class=\"toc-item-num\">2.5.0.1&nbsp;&nbsp;</span>Choice of learning rate</a></div><div class=\"lev2 toc-item\"><a href=\"#7---Test-with-your-own-image-(optional/ungraded-exercise)\" data-toc-modified-id=\"7---Test-with-your-own-image-(optional/ungraded-exercise)-26\"><span class=\"toc-item-num\">2.6&nbsp;&nbsp;</span>7 - Test with your own image (optional/ungraded exercise)</a></div>"
   ]
  },
  {
   "cell_type": "markdown",
   "metadata": {},
   "source": [
    "# Logistic Regression with a Neural Network mindset\n",
    "\n",
    "Welcome to your first (required) programming assignment! You will build a logistic regression classifier to recognize  cats. This assignment will step you through how to do this with a Neural Network mindset, and so will also hone your intuitions about deep learning.\n",
    "\n",
    "**Instructions:**\n",
    "- Do not use loops (for/while) in your code, unless the instructions explicitly ask you to do so.\n",
    "\n",
    "**You will learn to:**\n",
    "- Build the general architecture of a learning algorithm, including:\n",
    "    - Initializing parameters\n",
    "    - Calculating the cost function and its gradient\n",
    "    - Using an optimization algorithm (gradient descent) \n",
    "- Gather all three functions above into a main model function, in the right order."
   ]
  },
  {
   "cell_type": "markdown",
   "metadata": {},
   "source": [
    "## 1 - Packages ##\n",
    "\n",
    "First, let's run the cell below to import all the packages that you will need during this assignment. \n",
    "- [numpy](www.numpy.org) is the fundamental package for scientific computing with Python.\n",
    "- [h5py](http://www.h5py.org) is a common package to interact with a dataset that is stored on an H5 file.\n",
    "- [matplotlib](http://matplotlib.org) is a famous library to plot graphs in Python.\n",
    "- [PIL](http://www.pythonware.com/products/pil/) and [scipy](https://www.scipy.org/) are used here to test your model with your own picture at the end."
   ]
  },
  {
   "cell_type": "code",
   "execution_count": 1,
   "metadata": {},
   "outputs": [],
   "source": [
    "# **** imports ****\n",
    "import numpy as np\n",
    "import matplotlib.pyplot as plt\n",
    "import h5py\n",
    "import scipy\n",
    "from PIL import Image\n",
    "from scipy import ndimage\n",
    "from lr_utils import load_dataset\n",
    "import skimage\n",
    "%matplotlib inline"
   ]
  },
  {
   "cell_type": "markdown",
   "metadata": {},
   "source": [
    "# %load lr_utils.py\n",
    "```python\n",
    "import numpy as np\n",
    "import h5py\n",
    "    \n",
    "    \n",
    "def load_dataset():\n",
    "    train_dataset = h5py.File('datasets/train_catvnoncat.h5', \"r\")\n",
    "    train_set_x_orig = np.array(train_dataset[\"train_set_x\"][:]) # your train set features\n",
    "    train_set_y_orig = np.array(train_dataset[\"train_set_y\"][:]) # your train set labels\n",
    "\n",
    "    test_dataset = h5py.File('datasets/test_catvnoncat.h5', \"r\")\n",
    "    test_set_x_orig = np.array(test_dataset[\"test_set_x\"][:]) # your test set features\n",
    "    test_set_y_orig = np.array(test_dataset[\"test_set_y\"][:]) # your test set labels\n",
    "\n",
    "    classes = np.array(test_dataset[\"list_classes\"][:]) # the list of classes\n",
    "    \n",
    "    train_set_y_orig = train_set_y_orig.reshape((1, train_set_y_orig.shape[0]))\n",
    "    test_set_y_orig = test_set_y_orig.reshape((1, test_set_y_orig.shape[0]))\n",
    "    \n",
    "    return train_set_x_orig, train_set_y_orig, test_set_x_orig, test_set_y_orig, classes\n",
    "    ```"
   ]
  },
  {
   "cell_type": "markdown",
   "metadata": {},
   "source": [
    "## 2 - Overview of the Problem set ##\n",
    "\n",
    "**Problem Statement**: You are given a dataset (\"data.h5\") containing:\n",
    "    - a training set of m_train images labeled as cat (y=1) or non-cat (y=0)\n",
    "    - a test set of m_test images labeled as cat or non-cat\n",
    "    - each image is of shape (num_px, num_px, 3) where 3 is for the 3 channels (RGB). Thus, each image is square (height = num_px) and (width = num_px).\n",
    "\n",
    "You will build a simple image-recognition algorithm that can correctly classify pictures as cat or non-cat.\n",
    "\n",
    "Let's get more familiar with the dataset. Load the data by running the following code."
   ]
  },
  {
   "cell_type": "code",
   "execution_count": 2,
   "metadata": {},
   "outputs": [],
   "source": [
    "# **** loading the data (cat/non-cat) ****\n",
    "train_set_x_orig, train_set_y, test_set_x_orig, test_set_y, classes = load_dataset()"
   ]
  },
  {
   "cell_type": "markdown",
   "metadata": {},
   "source": [
    "We added \"_orig\" at the end of image datasets (train and test) because we are going to preprocess them. After preprocessing, we will end up with train_set_x and test_set_x (the labels train_set_y and test_set_y don't need any preprocessing).\n",
    "\n",
    "Each line of your train_set_x_orig and test_set_x_orig is an array representing an image. You can visualize an example by running the following code. Feel free also to change the `index` value and re-run to see other images. "
   ]
  },
  {
   "cell_type": "code",
   "execution_count": 3,
   "metadata": {},
   "outputs": [
    {
     "name": "stdout",
     "output_type": "stream",
     "text": [
      "y = index[50], it's a 'cat' picture.\n"
     ]
    },
    {
     "data": {
      "image/png": "[encoded data removed]",
      "text/plain": [
       "<Figure size 432x288 with 1 Axes>"
      ]
     },
     "metadata": {
      "needs_background": "light"
     },
     "output_type": "display_data"
    }
   ],
   "source": [
    "# **** example of an image ****\n",
    "index = 50\n",
    "plt.imshow(train_set_x_orig[index])\n",
    "print(\"y = index[\" + str(index) + \"], it's a '\" + classes[np.squeeze(train_set_y[:, index])].decode(\"utf-8\") +  \"' picture.\")"
   ]
  },
  {
   "cell_type": "markdown",
   "metadata": {},
   "source": [
    "Many software bugs in deep learning come from having matrix/vector dimensions that don't fit. If you can keep your matrix/vector dimensions straight you will go a long way toward eliminating many bugs. \n",
    "\n",
    "**Exercise:** Find the values for:\n",
    "    - m_train (number of training examples)\n",
    "    - m_test (number of test examples)\n",
    "    - num_px (= height = width of a training image)\n",
    "Remember that `train_set_x_orig` is a numpy-array of shape (m_train, num_px, num_px, 3). For instance, you can access `m_train` by writing `train_set_x_orig.shape[0]`."
   ]
  },
  {
   "cell_type": "code",
   "execution_count": 4,
   "metadata": {
    "scrolled": true
   },
   "outputs": [
    {
     "name": "stdout",
     "output_type": "stream",
     "text": [
      "Number of training examples: m_train = 209\n",
      " Number of testing examples: m_test = 50\n",
      " Height/Width of each image: num_px = 64\n",
      "      Each image is of size: (64, 64, 3)\n",
      "          train_set_x shape: (209, 64, 64, 3)\n",
      "          train_set_y shape: (1, 209)\n",
      "           test_set_x shape: (50, 64, 64, 3)\n",
      "           test_set_y shape: (1, 50)\n"
     ]
    }
   ],
   "source": [
    "# **** extract and display information about the dataset ****\n",
    "m_train = train_set_x_orig.shape[0]\n",
    "m_test  = test_set_x_orig.shape[0]\n",
    "num_px  = train_set_x_orig.shape[2]\n",
    "\n",
    "print (\"Number of training examples: m_train = \" + str(m_train))\n",
    "print (\" Number of testing examples: m_test = \" + str(m_test))\n",
    "print (\" Height/Width of each image: num_px = \" + str(num_px))\n",
    "print (\"      Each image is of size: (\" + str(num_px) + \", \" + str(num_px) + \", 3)\")\n",
    "print (\"          train_set_x shape: \" + str(train_set_x_orig.shape))\n",
    "print (\"          train_set_y shape: \" + str(train_set_y.shape))\n",
    "print (\"           test_set_x shape: \" + str(test_set_x_orig.shape))\n",
    "print (\"           test_set_y shape: \" + str(test_set_y.shape))"
   ]
  },
  {
   "cell_type": "code",
   "execution_count": 5,
   "metadata": {},
   "outputs": [
    {
     "name": "stdout",
     "output_type": "stream",
     "text": [
      "classes.shape: (2,)\n",
      "   classes[0]: b'non-cat'\n",
      "   classes[1]: b'cat'\n",
      "\n",
      "type(train_set_y): <class 'numpy.ndarray'>\n",
      "train_set_y.shape: (1, 209)\n"
     ]
    }
   ],
   "source": [
    "# **** explore classes (image label identifying the class of the sample) ****\n",
    "print(\"classes.shape: \" + str(classes.shape))\n",
    "print(\"   classes[0]: \" + str(classes[0]))\n",
    "print(\"   classes[1]: \" + str(classes[1]))\n",
    "print()\n",
    "\n",
    "# **** display shapes ****\n",
    "print(\"type(train_set_y): \" + str(type(train_set_y)))\n",
    "print(\"train_set_y.shape: \" + str(train_set_y.shape))"
   ]
  },
  {
   "cell_type": "code",
   "execution_count": 6,
   "metadata": {},
   "outputs": [
    {
     "name": "stdout",
     "output_type": "stream",
     "text": [
      "in training set\n",
      "    cats: 72\n",
      "non-cats: 137\n"
     ]
    }
   ],
   "source": [
    "# **** how many cats in the train set ****\n",
    "cats = 0\n",
    "for i in range(m_train):\n",
    "    x = train_set_y[0][i]\n",
    "    if x == 1:\n",
    "        cats += 1\n",
    "\n",
    "print(\"in training set\")\n",
    "print(\"    cats: \" + str(cats))\n",
    "print(\"non-cats: \" + str(train_set_y.shape[1] - cats))"
   ]
  },
  {
   "cell_type": "code",
   "execution_count": 7,
   "metadata": {},
   "outputs": [
    {
     "name": "stdout",
     "output_type": "stream",
     "text": [
      "in test set\n",
      "    cats: 33\n",
      "non-cats: 17\n"
     ]
    }
   ],
   "source": [
    "# **** how many cats in the test set ****\n",
    "cats = 0\n",
    "for i in range(m_test):\n",
    "    x = test_set_y[0][i]\n",
    "    if x == 1:\n",
    "        cats += 1\n",
    "print(\"in test set\")\n",
    "print(\"    cats: \" + str(cats))\n",
    "print(\"non-cats: \" + str(test_set_y.shape[1] - cats))"
   ]
  },
  {
   "cell_type": "code",
   "execution_count": 8,
   "metadata": {},
   "outputs": [
    {
     "name": "stdout",
     "output_type": "stream",
     "text": [
      "XX.shape: (2, 3, 4, 4)\n",
      "XX:\n",
      "[[[[1. 1. 1. 1.]\n",
      "   [1. 1. 1. 1.]\n",
      "   [1. 1. 1. 1.]\n",
      "   [1. 1. 1. 1.]]\n",
      "\n",
      "  [[2. 2. 2. 2.]\n",
      "   [2. 2. 2. 2.]\n",
      "   [2. 2. 2. 2.]\n",
      "   [2. 2. 2. 2.]]\n",
      "\n",
      "  [[3. 3. 3. 3.]\n",
      "   [3. 3. 3. 3.]\n",
      "   [3. 3. 3. 3.]\n",
      "   [3. 3. 3. 3.]]]\n",
      "\n",
      "\n",
      " [[[4. 4. 4. 4.]\n",
      "   [4. 4. 4. 4.]\n",
      "   [4. 4. 4. 4.]\n",
      "   [4. 4. 4. 4.]]\n",
      "\n",
      "  [[5. 5. 5. 5.]\n",
      "   [5. 5. 5. 5.]\n",
      "   [5. 5. 5. 5.]\n",
      "   [5. 5. 5. 5.]]\n",
      "\n",
      "  [[6. 6. 6. 6.]\n",
      "   [6. 6. 6. 6.]\n",
      "   [6. 6. 6. 6.]\n",
      "   [6. 6. 6. 6.]]]]\n",
      "\n",
      "XX[0].shape: (3, 4, 4)\n",
      "XX[0]:\n",
      "[[[1. 1. 1. 1.]\n",
      "  [1. 1. 1. 1.]\n",
      "  [1. 1. 1. 1.]\n",
      "  [1. 1. 1. 1.]]\n",
      "\n",
      " [[2. 2. 2. 2.]\n",
      "  [2. 2. 2. 2.]\n",
      "  [2. 2. 2. 2.]\n",
      "  [2. 2. 2. 2.]]\n",
      "\n",
      " [[3. 3. 3. 3.]\n",
      "  [3. 3. 3. 3.]\n",
      "  [3. 3. 3. 3.]\n",
      "  [3. 3. 3. 3.]]]\n",
      "\n",
      "XX[1].shape: (3, 4, 4)\n",
      "XX[1]:\n",
      "[[[4. 4. 4. 4.]\n",
      "  [4. 4. 4. 4.]\n",
      "  [4. 4. 4. 4.]\n",
      "  [4. 4. 4. 4.]]\n",
      "\n",
      " [[5. 5. 5. 5.]\n",
      "  [5. 5. 5. 5.]\n",
      "  [5. 5. 5. 5.]\n",
      "  [5. 5. 5. 5.]]\n",
      "\n",
      " [[6. 6. 6. 6.]\n",
      "  [6. 6. 6. 6.]\n",
      "  [6. 6. 6. 6.]\n",
      "  [6. 6. 6. 6.]]]\n",
      "\n",
      "XX_flat:\n",
      "[[1. 4.]\n",
      " [1. 4.]\n",
      " [1. 4.]\n",
      " [1. 4.]\n",
      " [1. 4.]\n",
      " [1. 4.]\n",
      " [1. 4.]\n",
      " [1. 4.]\n",
      " [1. 4.]\n",
      " [1. 4.]\n",
      " [1. 4.]\n",
      " [1. 4.]\n",
      " [1. 4.]\n",
      " [1. 4.]\n",
      " [1. 4.]\n",
      " [1. 4.]\n",
      " [2. 5.]\n",
      " [2. 5.]\n",
      " [2. 5.]\n",
      " [2. 5.]\n",
      " [2. 5.]\n",
      " [2. 5.]\n",
      " [2. 5.]\n",
      " [2. 5.]\n",
      " [2. 5.]\n",
      " [2. 5.]\n",
      " [2. 5.]\n",
      " [2. 5.]\n",
      " [2. 5.]\n",
      " [2. 5.]\n",
      " [2. 5.]\n",
      " [2. 5.]\n",
      " [3. 6.]\n",
      " [3. 6.]\n",
      " [3. 6.]\n",
      " [3. 6.]\n",
      " [3. 6.]\n",
      " [3. 6.]\n",
      " [3. 6.]\n",
      " [3. 6.]\n",
      " [3. 6.]\n",
      " [3. 6.]\n",
      " [3. 6.]\n",
      " [3. 6.]\n",
      " [3. 6.]\n",
      " [3. 6.]\n",
      " [3. 6.]\n",
      " [3. 6.]]\n",
      "len(XX_flat): 48\n"
     ]
    }
   ],
   "source": [
    "# **** create a first set of two images ****\n",
    "XX = np.zeros((2, 3, 4, 4))\n",
    "print(\"XX.shape: \" + str(XX.shape))\n",
    "\n",
    "# **** fill the first image ****\n",
    "XX[0][0].fill(1)  # RED plane\n",
    "XX[0][1].fill(2)  # GREEN plane\n",
    "XX[0][2].fill(3)  # BLUE plane\n",
    "\n",
    "# **** fill the second image ****\n",
    "XX[1][0].fill(4)  # RED plane\n",
    "XX[1][1].fill(5)  # GREEN plane\n",
    "XX[1][2].fill(6)  # BLUE plane\n",
    "\n",
    "# **** display the two images ****\n",
    "print(\"XX:\\n\" + str(XX))\n",
    "print()\n",
    "\n",
    "# **** display the shape of the first image ****\n",
    "print(\"XX[0].shape: \" + str(XX[0].shape))\n",
    "print(\"XX[0]:\\n\" + str(XX[0]))\n",
    "print()\n",
    "\n",
    "# **** display the shape of the second image ****\n",
    "print(\"XX[1].shape: \" + str(XX[1].shape))\n",
    "print(\"XX[1]:\\n\" + str(XX[1]))\n",
    "print()\n",
    "\n",
    "# **** reshape images and display results ****\n",
    "XX_flat = XX.reshape(XX.shape[0], -1).T\n",
    "print(\"XX_flat:\\n\" + str(XX_flat))\n",
    "print(\"len(XX_flat): \" + str(len(XX_flat)))\n"
   ]
  },
  {
   "cell_type": "code",
   "execution_count": 9,
   "metadata": {},
   "outputs": [
    {
     "name": "stdout",
     "output_type": "stream",
     "text": [
      "ZZ.shape: (2, 4, 4, 3)\n",
      "ZZ:\n",
      "[[[[ 1.  1.  1.]\n",
      "   [ 2.  2.  2.]\n",
      "   [ 3.  3.  3.]\n",
      "   [ 4.  4.  4.]]\n",
      "\n",
      "  [[ 5.  5.  5.]\n",
      "   [ 6.  6.  6.]\n",
      "   [ 7.  7.  7.]\n",
      "   [ 8.  8.  8.]]\n",
      "\n",
      "  [[ 9.  9.  9.]\n",
      "   [10. 10. 10.]\n",
      "   [11. 11. 11.]\n",
      "   [12. 12. 12.]]\n",
      "\n",
      "  [[13. 13. 13.]\n",
      "   [15. 15. 15.]\n",
      "   [15. 15. 15.]\n",
      "   [16. 16. 16.]]]\n",
      "\n",
      "\n",
      " [[[17. 17. 17.]\n",
      "   [18. 18. 18.]\n",
      "   [19. 19. 19.]\n",
      "   [20. 20. 20.]]\n",
      "\n",
      "  [[21. 21. 21.]\n",
      "   [22. 22. 22.]\n",
      "   [23. 23. 23.]\n",
      "   [24. 24. 24.]]\n",
      "\n",
      "  [[25. 25. 25.]\n",
      "   [26. 26. 26.]\n",
      "   [27. 27. 27.]\n",
      "   [28. 28. 28.]]\n",
      "\n",
      "  [[29. 29. 29.]\n",
      "   [30. 30. 30.]\n",
      "   [31. 31. 31.]\n",
      "   [31. 31. 31.]]]]\n",
      "\n",
      "ZZ[1].shape: (4, 4, 3)\n",
      "ZZ[1]:\n",
      "[[[17. 17. 17.]\n",
      "  [18. 18. 18.]\n",
      "  [19. 19. 19.]\n",
      "  [20. 20. 20.]]\n",
      "\n",
      " [[21. 21. 21.]\n",
      "  [22. 22. 22.]\n",
      "  [23. 23. 23.]\n",
      "  [24. 24. 24.]]\n",
      "\n",
      " [[25. 25. 25.]\n",
      "  [26. 26. 26.]\n",
      "  [27. 27. 27.]\n",
      "  [28. 28. 28.]]\n",
      "\n",
      " [[29. 29. 29.]\n",
      "  [30. 30. 30.]\n",
      "  [31. 31. 31.]\n",
      "  [31. 31. 31.]]]\n",
      "\n",
      "ZZ_flat:\n",
      "[[ 1. 17.]\n",
      " [ 1. 17.]\n",
      " [ 1. 17.]\n",
      " [ 2. 18.]\n",
      " [ 2. 18.]\n",
      " [ 2. 18.]\n",
      " [ 3. 19.]\n",
      " [ 3. 19.]\n",
      " [ 3. 19.]\n",
      " [ 4. 20.]\n",
      " [ 4. 20.]\n",
      " [ 4. 20.]\n",
      " [ 5. 21.]\n",
      " [ 5. 21.]\n",
      " [ 5. 21.]\n",
      " [ 6. 22.]\n",
      " [ 6. 22.]\n",
      " [ 6. 22.]\n",
      " [ 7. 23.]\n",
      " [ 7. 23.]\n",
      " [ 7. 23.]\n",
      " [ 8. 24.]\n",
      " [ 8. 24.]\n",
      " [ 8. 24.]\n",
      " [ 9. 25.]\n",
      " [ 9. 25.]\n",
      " [ 9. 25.]\n",
      " [10. 26.]\n",
      " [10. 26.]\n",
      " [10. 26.]\n",
      " [11. 27.]\n",
      " [11. 27.]\n",
      " [11. 27.]\n",
      " [12. 28.]\n",
      " [12. 28.]\n",
      " [12. 28.]\n",
      " [13. 29.]\n",
      " [13. 29.]\n",
      " [13. 29.]\n",
      " [15. 30.]\n",
      " [15. 30.]\n",
      " [15. 30.]\n",
      " [15. 31.]\n",
      " [15. 31.]\n",
      " [15. 31.]\n",
      " [16. 31.]\n",
      " [16. 31.]\n",
      " [16. 31.]]\n",
      "len(ZZ_flat): 48\n"
     ]
    }
   ],
   "source": [
    "# **** create a second set of two images ****\n",
    "ZZ = np.zeros((2, 4, 4, 3))\n",
    "print(\"ZZ.shape: \" + str(ZZ.shape))\n",
    "\n",
    "# **** fill the first image ****\n",
    "ZZ[0][0][0].fill(1)  # RGB pixel\n",
    "ZZ[0][0][1].fill(2)  # RGB pixel\n",
    "ZZ[0][0][2].fill(3)  # RGB pixel\n",
    "ZZ[0][0][3].fill(4)  # RGB pixel\n",
    "\n",
    "ZZ[0][1][0].fill(5)  # RGB pixel\n",
    "ZZ[0][1][1].fill(6)  # RGB pixel\n",
    "ZZ[0][1][2].fill(7)  # RGB pixel\n",
    "ZZ[0][1][3].fill(8)  # RGB pixel\n",
    "\n",
    "ZZ[0][2][0].fill(9)  # RGB pixel\n",
    "ZZ[0][2][1].fill(10) # RGB pixel\n",
    "ZZ[0][2][2].fill(11) # RGB pixel\n",
    "ZZ[0][2][3].fill(12) # RGB pixel\n",
    "\n",
    "ZZ[0][3][0].fill(13) # RGB pixel\n",
    "ZZ[0][3][1].fill(15) # RGB pixel\n",
    "ZZ[0][3][2].fill(15) # RGB pixel\n",
    "ZZ[0][3][3].fill(16) # RGB pixel\n",
    "\n",
    "# **** fill the second image ****\n",
    "ZZ[1][0][0].fill(17) # RGB pixel\n",
    "ZZ[1][0][1].fill(18) # RGB pixel\n",
    "ZZ[1][0][2].fill(19) # RGB pixel\n",
    "ZZ[1][0][3].fill(20) # RGB pixel\n",
    "\n",
    "ZZ[1][1][0].fill(21) # RGB pixel\n",
    "ZZ[1][1][1].fill(22) # RGB pixel\n",
    "ZZ[1][1][2].fill(23) # RGB pixel\n",
    "ZZ[1][1][3].fill(24) # RGB pixel\n",
    "\n",
    "ZZ[1][2][0].fill(25) # RGB pixel\n",
    "ZZ[1][2][1].fill(26) # RGB pixel\n",
    "ZZ[1][2][2].fill(27) # RGB pixel\n",
    "ZZ[1][2][3].fill(28) # RGB pixel\n",
    "\n",
    "ZZ[1][3][0].fill(29) # RGB pixel\n",
    "ZZ[1][3][1].fill(30) # RGB pixel\n",
    "ZZ[1][3][2].fill(31) # RGB pixel\n",
    "ZZ[1][3][3].fill(31) # RGB pixel\n",
    "\n",
    "# **** display images ****\n",
    "print(\"ZZ:\\n\" + str(ZZ))\n",
    "print()\n",
    "\n",
    "# **** display the shape of each image ****\n",
    "print(\"ZZ[1].shape: \" + str(ZZ[1].shape))\n",
    "print(\"ZZ[1]:\\n\" + str(ZZ[1]))\n",
    "print()\n",
    "\n",
    "# **** reshape the images and display results ****\n",
    "ZZ_flat = ZZ.reshape(ZZ.shape[0], -1).T\n",
    "print(\"ZZ_flat:\\n\" + str(ZZ_flat))\n",
    "print(\"len(ZZ_flat): \" + str(len(ZZ_flat)))\n"
   ]
  },
  {
   "cell_type": "markdown",
   "metadata": {},
   "source": [
    "**Expected Output for m_train, m_test and num_px**: \n",
    "<table style=\"width:15%\">\n",
    "  <tr>\n",
    "    <td>**m_train**</td>\n",
    "    <td> 209 </td> \n",
    "  </tr>\n",
    "  \n",
    "  <tr>\n",
    "    <td>**m_test**</td>\n",
    "    <td> 50 </td> \n",
    "  </tr>\n",
    "  \n",
    "  <tr>\n",
    "    <td>**num_px**</td>\n",
    "    <td> 64 </td> \n",
    "  </tr>\n",
    "  \n",
    "</table>\n"
   ]
  },
  {
   "cell_type": "markdown",
   "metadata": {},
   "source": [
    "For convenience, you should now reshape images of shape (num_px, num_px, 3) in a numpy-array of shape (num_px $*$ num_px $*$ 3, 1). After this, our training (and test) dataset is a numpy-array where each column represents a flattened image. There should be m_train (respectively m_test) columns.\n",
    "\n",
    "**Exercise:** Reshape the training and test data sets so that images of size (num_px, num_px, 3) are flattened into single vectors of shape (num\\_px $*$ num\\_px $*$ 3, 1).\n",
    "\n",
    "A trick when you want to flatten a matrix X of shape (a,b,c,d) to a matrix X_flatten of shape (b$*$c$*$d, a) is to use: \n",
    "```python\n",
    "X_flatten = X.reshape(X.shape[0], -1).T      # X.T is the transpose of X\n",
    "```"
   ]
  },
  {
   "cell_type": "code",
   "execution_count": 10,
   "metadata": {},
   "outputs": [
    {
     "name": "stdout",
     "output_type": "stream",
     "text": [
      "   train_set_x_orig.shape[0]: 209\n",
      "   train_set_x_orig.shape[1]: 64\n",
      "   train_set_x_orig.shape[2]: 64\n",
      "   train_set_x_orig.shape[3]: 3\n",
      " train_set_x_orig:\n",
      "[[17 31 56]\n",
      " [22 33 59]]\n",
      "\n",
      "   train_set_x_flatten shape: (12288, 209)\n",
      "           train_set_y shape: (1, 209)\n",
      "    test_set_x_flatten shape: (12288, 50)\n",
      "            test_set_y shape: (1, 50)\n",
      "sanity check after reshaping: [17 31 56 22 33 59]\n"
     ]
    }
   ],
   "source": [
    "# **** reshape the training and test examples ****\n",
    "print(\"   train_set_x_orig.shape[0]: \" + str(train_set_x_orig.shape[0]))\n",
    "print(\"   train_set_x_orig.shape[1]: \" + str(train_set_x_orig.shape[1]))\n",
    "print(\"   train_set_x_orig.shape[2]: \" + str(train_set_x_orig.shape[2]))\n",
    "print(\"   train_set_x_orig.shape[3]: \" + str(train_set_x_orig.shape[3]))\n",
    "\n",
    "#print(\" train_set_x_orig: \" + str(train_set_x_orig[0, 0, 0]))\n",
    "#print(\" train_set_x_orig: \" + str(train_set_x_orig[0, 0, 1]))\n",
    "\n",
    "print(\" train_set_x_orig:\\n\" + str(train_set_x_orig[0, 0, 0:2]))\n",
    "print()\n",
    "\n",
    "# **** flatten the train set ****\n",
    "train_set_x_flatten = train_set_x_orig.reshape(train_set_x_orig.shape[0], -1).T\n",
    "\n",
    "# **** flatten the test set ****\n",
    "test_set_x_flatten  = test_set_x_orig.reshape(test_set_x_orig.shape[0], -1).T\n",
    "\n",
    "print (\"   train_set_x_flatten shape: \" + str(train_set_x_flatten.shape))\n",
    "print (\"           train_set_y shape: \" + str(train_set_y.shape))\n",
    "print (\"    test_set_x_flatten shape: \" + str(test_set_x_flatten.shape))\n",
    "print (\"            test_set_y shape: \" + str(test_set_y.shape))\n",
    "print (\"sanity check after reshaping: \" + str(train_set_x_flatten[0:6,0]))"
   ]
  },
  {
   "cell_type": "markdown",
   "metadata": {},
   "source": [
    "**Expected Output**: \n",
    "\n",
    "<table style=\"width:35%\">\n",
    "  <tr>\n",
    "    <td>**train_set_x_flatten shape**</td>\n",
    "    <td> (12288, 209)</td> \n",
    "  </tr>\n",
    "  <tr>\n",
    "    <td>**train_set_y shape**</td>\n",
    "    <td>(1, 209)</td> \n",
    "  </tr>\n",
    "  <tr>\n",
    "    <td>**test_set_x_flatten shape**</td>\n",
    "    <td>(12288, 50)</td> \n",
    "  </tr>\n",
    "  <tr>\n",
    "    <td>**test_set_y shape**</td>\n",
    "    <td>(1, 50)</td> \n",
    "  </tr>\n",
    "  <tr>\n",
    "  <td>**sanity check after reshaping**</td>\n",
    "  <td>[17 31 56 22 33]</td> \n",
    "  </tr>\n",
    "</table>"
   ]
  },
  {
   "cell_type": "markdown",
   "metadata": {},
   "source": [
    "To represent color images, the red, green and blue channels (RGB) must be specified for each pixel, and so the pixel value is actually a vector of three numbers ranging from 0 to 255.\n",
    "\n",
    "One common preprocessing step in machine learning is to center and standardize your dataset, meaning that you substract the mean of the whole numpy array from each example, and then divide each example by the standard deviation of the whole numpy array. But for picture datasets, it is simpler and more convenient and works almost as well to just divide every row of the dataset by 255 (the maximum value of a pixel channel).\n",
    "\n",
    "<!-- During the training of your model, you're going to multiply weights and add biases to some initial inputs in order to observe neuron activations. Then you backpropogate with the gradients to train the model. But, it is extremely important for each feature to have a similar range such that our gradients don't explode. You will see that more in detail later in the lectures. !--> \n",
    "\n",
    "Let's standardize our dataset."
   ]
  },
  {
   "cell_type": "code",
   "execution_count": 11,
   "metadata": {},
   "outputs": [],
   "source": [
    "# **** standardize the datasets ****\n",
    "train_set_x = train_set_x_flatten / 255.\n",
    "test_set_x  = test_set_x_flatten / 255."
   ]
  },
  {
   "cell_type": "code",
   "execution_count": 12,
   "metadata": {},
   "outputs": [
    {
     "name": "stdout",
     "output_type": "stream",
     "text": [
      "len(train_set_x): 12288\n"
     ]
    }
   ],
   "source": [
    "# **** display the length of each sample ****\n",
    "print(\"len(train_set_x): \" + str(len(train_set_x)))"
   ]
  },
  {
   "cell_type": "markdown",
   "metadata": {},
   "source": [
    "<font color='blue'>\n",
    "**What you need to remember:**\n",
    "\n",
    "Common steps for pre-processing a new dataset are:\n",
    "- Figure out the dimensions and shapes of the problem (m_train, m_test, num_px, ...)\n",
    "- Reshape the datasets such that each example is now a vector of size (num_px \\* num_px \\* 3, 1)\n",
    "- \"Standardize\" the data"
   ]
  },
  {
   "cell_type": "markdown",
   "metadata": {},
   "source": [
    "## 3 - General Architecture of the learning algorithm ##\n",
    "\n",
    "It's time to design a simple algorithm to distinguish cat images from non-cat images.\n",
    "\n",
    "You will build a Logistic Regression, using a Neural Network mindset. The following Figure explains why **Logistic Regression is actually a very simple Neural Network!**\n",
    "\n",
    "<img src=\"images/LogReg_kiank.png\" style=\"width:650px;height:400px;\">\n",
    "\n",
    "**Mathematical expression of the algorithm**:\n",
    "\n",
    "For one example $x^{(i)}$:\n",
    "$$z^{(i)} = w^T x^{(i)} + b \\tag{1}$$\n",
    "$$\\hat{y}^{(i)} = a^{(i)} = sigmoid(z^{(i)})\\tag{2}$$ \n",
    "$$ \\mathcal{L}(a^{(i)}, y^{(i)}) =  - y^{(i)}  \\log(a^{(i)}) - (1-y^{(i)} )  \\log(1-a^{(i)})\\tag{3}$$\n",
    "\n",
    "The cost is then computed by summing over all training examples:\n",
    "$$ J = \\frac{1}{m} \\sum_{i=1}^m \\mathcal{L}(a^{(i)}, y^{(i)})\\tag{6}$$\n",
    "\n",
    "**Key steps**:\n",
    "In this exercise, you will carry out the following steps: \n",
    "    - Initialize the parameters of the model\n",
    "    - Learn the parameters for the model by minimizing the cost  \n",
    "    - Use the learned parameters to make predictions (on the test set)\n",
    "    - Analyse the results and conclude"
   ]
  },
  {
   "cell_type": "markdown",
   "metadata": {},
   "source": [
    "## 4 - Building the parts of our algorithm ## \n",
    "\n",
    "The main steps for building a Neural Network are:\n",
    "1. Define the model structure (such as number of input features) \n",
    "2. Initialize the model's parameters\n",
    "3. Loop:\n",
    "    - Calculate current loss (forward propagation)\n",
    "    - Calculate current gradient (backward propagation)\n",
    "    - Update parameters (gradient descent)\n",
    "\n",
    "You often build 1-3 separately and integrate them into one function we call `model()`.\n",
    "\n",
    "### 4.1 - Helper functions\n",
    "\n",
    "**Exercise**: Using your code from \"Python Basics\", implement `sigmoid()`. As you've seen in the figure above, you need to compute $sigmoid( w^T x + b) = \\frac{1}{1 + e^{-(w^T x + b)}}$ to make predictions. Use np.exp()."
   ]
  },
  {
   "cell_type": "code",
   "execution_count": 13,
   "metadata": {},
   "outputs": [],
   "source": [
    "# **** sigmoid function ****\n",
    "def sigmoid(z):\n",
    "    \"\"\"\n",
    "    Compute the sigmoid of z\n",
    "\n",
    "    Arguments:\n",
    "    z -- A scalar or numpy array of any size.\n",
    "\n",
    "    Return:\n",
    "    s -- sigmoid(z)\n",
    "    \"\"\"\n",
    "\n",
    "    s = 1 / (1 + np.exp(-z))\n",
    "    \n",
    "    return s"
   ]
  },
  {
   "cell_type": "code",
   "execution_count": 14,
   "metadata": {
    "scrolled": true
   },
   "outputs": [
    {
     "name": "stdout",
     "output_type": "stream",
     "text": [
      "sigmoid([-2, 0, 2]): [0.11920292 0.5        0.88079708]\n",
      "   1 - sigmoid([2]): [0.11920292]\n"
     ]
    }
   ],
   "source": [
    "# **** test operation of sigmoid function ****\n",
    "print(\"sigmoid([-2, 0, 2]): \" + str(sigmoid(np.array([-2.0, 0, 2]))))\n",
    "print(\"   1 - sigmoid([2]): \" + str(1 - sigmoid(np.array([2]))))"
   ]
  },
  {
   "cell_type": "markdown",
   "metadata": {},
   "source": [
    "**Expected Output**: \n",
    "\n",
    "<table>\n",
    "  <tr>\n",
    "    <td>**sigmoid([0, 2])**</td>\n",
    "    <td> [ 0.5         0.88079708]</td> \n",
    "  </tr>\n",
    "</table>"
   ]
  },
  {
   "cell_type": "markdown",
   "metadata": {},
   "source": [
    "### 4.2 - Initializing parameters\n",
    "\n",
    "**Exercise:** Implement parameter initialization in the cell below. You have to initialize w as a vector of zeros. If you don't know what numpy function to use, look up np.zeros() in the Numpy library's documentation."
   ]
  },
  {
   "cell_type": "code",
   "execution_count": 15,
   "metadata": {},
   "outputs": [],
   "source": [
    "# **** initialize with zeros function ****\n",
    "def initialize_with_zeros(dim):\n",
    "    \"\"\"\n",
    "    This function creates a vector of zeros of shape (dim, 1) for w and initializes b to 0.\n",
    "    \n",
    "    Argument:\n",
    "    dim -- size of the w vector we want (or number of parameters in this case)\n",
    "    \n",
    "    Returns:\n",
    "    w -- initialized vector of shape (dim, 1)\n",
    "    b -- initialized scalar (corresponds to the bias)\n",
    "    \"\"\"\n",
    "    \n",
    "    # **** initialize the variables ****\n",
    "    w = np.zeros(shape=(dim, 1), dtype=np.float)\n",
    "    b = 0.0\n",
    "\n",
    "    # ***** check if something went wrong ****\n",
    "    assert(w.shape == (dim, 1))\n",
    "    assert(isinstance(b, float) or isinstance(b, int))\n",
    "    \n",
    "    # **** return the array w and the constant b ****\n",
    "    return w, b"
   ]
  },
  {
   "cell_type": "code",
   "execution_count": 16,
   "metadata": {},
   "outputs": [
    {
     "name": "stdout",
     "output_type": "stream",
     "text": [
      "w:\n",
      "[[0.]\n",
      " [0.]\n",
      " [0.]]\n",
      "b: 0.0\n"
     ]
    }
   ],
   "source": [
    "# **** check the operation of initialize_with_zeros ****\n",
    "dim = 3\n",
    "w, b = initialize_with_zeros(dim)\n",
    "print (\"w:\\n\" + str(w))\n",
    "print (\"b: \" + str(b))"
   ]
  },
  {
   "cell_type": "markdown",
   "metadata": {},
   "source": [
    "**Expected Output**: \n",
    "\n",
    "\n",
    "<table style=\"width:15%\">\n",
    "    <tr>\n",
    "        <td>  ** w **  </td>\n",
    "        <td> [[ 0.]\n",
    " [ 0.]] </td>\n",
    "    </tr>\n",
    "    <tr>\n",
    "        <td>  ** b **  </td>\n",
    "        <td> 0 </td>\n",
    "    </tr>\n",
    "</table>\n",
    "\n",
    "For image inputs, w will be of shape (num_px $\\times$ num_px $\\times$ 3, 1)."
   ]
  },
  {
   "cell_type": "markdown",
   "metadata": {},
   "source": [
    "### 4.3 - Forward and Backward propagation\n",
    "\n",
    "Now that your parameters are initialized, you can do the \"forward\" and \"backward\" propagation steps for learning the parameters.\n",
    "\n",
    "**Exercise:** Implement a function `propagate()` that computes the cost function and its gradient.\n",
    "\n",
    "**Hints**:\n",
    "\n",
    "Forward Propagation:\n",
    "- You get X\n",
    "- You compute $A = \\sigma(w^T X + b) = (a^{(0)}, a^{(1)}, ..., a^{(m-1)}, a^{(m)})$\n",
    "- You calculate the cost function: $J = -\\frac{1}{m}\\sum_{i=1}^{m}y^{(i)}\\log(a^{(i)})+(1-y^{(i)})\\log(1-a^{(i)})$\n",
    "\n",
    "Here are the two formulas you will be using: \n",
    "\n",
    "$$ \\frac{\\partial J}{\\partial w} = \\frac{1}{m}X(A-Y)^T\\tag{7}$$\n",
    "$$ \\frac{\\partial J}{\\partial b} = \\frac{1}{m} \\sum_{i=1}^m (a^{(i)}-y^{(i)})\\tag{8}$$"
   ]
  },
  {
   "cell_type": "code",
   "execution_count": 17,
   "metadata": {},
   "outputs": [
    {
     "name": "stdout",
     "output_type": "stream",
     "text": [
      "aa: 4\n",
      "bb: 6.0\n",
      "cc: 7\n"
     ]
    }
   ],
   "source": [
    "# **** define a function returning multiple values ****\n",
    "def multipleVals(a, b, c):\n",
    "    \n",
    "    # **** compute values ****\n",
    "    aa = np.square(a)\n",
    "    bb = np.sqrt(b)\n",
    "    cc = np.abs(c)\n",
    "    \n",
    "    # **** return values ****\n",
    "    return aa, bb, cc\n",
    "\n",
    "aa = 2\n",
    "bb = 36\n",
    "cc = -7\n",
    "aa, bb, cc = multipleVals(aa, bb, cc)\n",
    "\n",
    "print(\"aa: \" + str(aa))\n",
    "print(\"bb: \" + str(bb))\n",
    "print(\"cc: \" + str(cc))"
   ]
  },
  {
   "cell_type": "code",
   "execution_count": 18,
   "metadata": {},
   "outputs": [],
   "source": [
    "# **** define the propagate() function ****\n",
    "def propagate(w, b, X, Y):\n",
    "    \"\"\"\n",
    "    Implement the cost function and its gradient for the propagation.\n",
    "\n",
    "    Arguments:\n",
    "    w -- weights, a numpy array of size (num_px * num_px * 3, 1)\n",
    "    b -- bias, a scalar\n",
    "    X -- data of size (num_px * num_px * 3, number of examples)\n",
    "    Y -- true \"label\" vector (containing 0 if non-cat, 1 if cat) of size (1, number of examples)\n",
    "\n",
    "    Return:\n",
    "    cost -- negative log-likelihood cost for logistic regression\n",
    "    dw -- gradient of the loss with respect to w, thus same shape as w\n",
    "    db -- gradient of the loss with respect to b, thus same shape as b\n",
    "    \"\"\"\n",
    "    \n",
    "    # **** get the number of examples ****\n",
    "    m = X.shape[1]\n",
    "    \n",
    "    # **** forward propagation (from X TO cost) ****\n",
    "    A = sigmoid(np.dot(w.T, X) + b)                                               # compute activation\n",
    "    cost = (-1. / m) * np.sum((Y * np.log(A) + (1 - Y) * np.log(1 - A)), axis=1)  # compute cost\n",
    "    \n",
    "    # **** backward propagation (TO FIND GRAD) ****\n",
    "    dw = (1. / m) * np.dot(X,((A - Y).T))\n",
    "    db = (1. / m) * np.sum(A - Y, axis=1)\n",
    "\n",
    "    # **** ****\n",
    "    assert(dw.shape == w.shape)\n",
    "    assert(db.dtype == float)\n",
    "    cost = np.squeeze(cost)\n",
    "    assert(cost.shape == ())\n",
    "    \n",
    "    # **** define a dictionary with the gradients (derivatives) ****\n",
    "    grads = {\"dw\": dw,\n",
    "             \"db\": db}\n",
    "    \n",
    "    # **** ****\n",
    "    return grads, cost"
   ]
  },
  {
   "cell_type": "code",
   "execution_count": 19,
   "metadata": {
    "scrolled": true
   },
   "outputs": [
    {
     "name": "stdout",
     "output_type": "stream",
     "text": [
      "w:\n",
      "[[1.]\n",
      " [2.]]\n",
      "b: 2.0\n",
      "X:\n",
      "[[ 1.   2.  -1. ]\n",
      " [ 3.   4.  -3.2]]\n",
      "Y: [[1 0 1]]\n",
      "\n",
      "  dw:\n",
      "[[0.99845601]\n",
      " [2.39507239]]\n",
      "  db: [0.00145558]\n",
      "cost: 5.801545319394553\n"
     ]
    }
   ],
   "source": [
    "# **** test the propagate function (forward and backward propagation) ****\n",
    "w, b, X, Y = np.array([[1.],[2.]]), 2., np.array([[1., 2., -1.],[3., 4., -3.2]]), np.array([[1, 0, 1]])\n",
    "print(\"w:\\n\" + str(w))\n",
    "print(\"b: \" + str(b))\n",
    "print(\"X:\\n\" + str(X))\n",
    "print(\"Y: \" + str(Y))\n",
    "print()\n",
    "\n",
    "grads, cost = propagate(w, b, X, Y)\n",
    "print (\"  dw:\\n\" + str(grads[\"dw\"]))\n",
    "print (\"  db: \" + str(grads[\"db\"]))\n",
    "print (\"cost: \" + str(cost))"
   ]
  },
  {
   "cell_type": "markdown",
   "metadata": {},
   "source": [
    "**Expected Output**:\n",
    "\n",
    "<table style=\"width:50%\">\n",
    "    <tr>\n",
    "        <td>  ** dw **  </td>\n",
    "        <td> [[ 0.99993216]\n",
    " [ 1.99980262]]</td>\n",
    "    </tr>\n",
    "    <tr>\n",
    "        <td>  ** db **  </td>\n",
    "        <td> 0.499935230625 </td>\n",
    "    </tr>\n",
    "    <tr>\n",
    "        <td>  ** cost **  </td>\n",
    "        <td> 6.000064773192205</td>\n",
    "    </tr>\n",
    "\n",
    "</table>"
   ]
  },
  {
   "cell_type": "markdown",
   "metadata": {},
   "source": [
    "### d) Optimization\n",
    "- You have initialized your parameters.\n",
    "- You are also able to compute a cost function and its gradient.\n",
    "- Now, you want to update the parameters using gradient descent.\n",
    "\n",
    "**Exercise:** Write down the optimization function. The goal is to learn $w$ and $b$ by minimizing the cost function $J$. For a parameter $\\theta$, the update rule is $ \\theta = \\theta - \\alpha \\text{ } d\\theta$, where $\\alpha$ is the learning rate."
   ]
  },
  {
   "cell_type": "code",
   "execution_count": 20,
   "metadata": {},
   "outputs": [],
   "source": [
    "# **** optimize() function ****\n",
    "def optimize(w, b, X, Y, num_iterations, learning_rate, print_cost = False):\n",
    "    \"\"\"\n",
    "    This function optimizes w and b by running a gradient descent algorithm\n",
    "    \n",
    "    Arguments:\n",
    "    w -- weights, a numpy array of size (num_px * num_px * 3, 1)\n",
    "    b -- bias, a scalar\n",
    "    X -- data of shape (num_px * num_px * 3, number of examples)\n",
    "    Y -- true \"label\" vector (containing 0 if non-cat, 1 if cat), of shape (1, number of examples)\n",
    "    num_iterations -- number of iterations of the optimization loop\n",
    "    learning_rate -- learning rate of the gradient descent update rule\n",
    "    print_cost -- True to print the loss every 100 steps\n",
    "    \n",
    "    Returns:\n",
    "    params -- dictionary containing the weights w and bias b\n",
    "    grads -- dictionary containing the gradients of the weights and bias with respect to the cost function\n",
    "    costs -- list of all the costs computed during the optimization, this will be used to plot the learning curve.\n",
    "    \"\"\"\n",
    "    \n",
    "    # **** define the array for the costs ****\n",
    "    costs = []\n",
    "    \n",
    "    # **** loop for the specified number of times ****\n",
    "    for i in range(num_iterations):\n",
    "        \n",
    "        # **** compute cost and gradients ****\n",
    "        grads, cost = propagate(w, b, X, Y)\n",
    "        \n",
    "        # **** retrieve derivatives from grads ****\n",
    "        dw = grads[\"dw\"]\n",
    "        db = grads[\"db\"]\n",
    "        \n",
    "        # **** update the rule ****\n",
    "        w = w - learning_rate * dw\n",
    "        b = b - learning_rate * db\n",
    "        \n",
    "        # **** record the costs (???? every 100 steps ????) ****\n",
    "        if i % 100 == 0:\n",
    "            costs.append(cost)\n",
    "        \n",
    "        # **** print the cost every 100 training examples ****\n",
    "        if print_cost and i % 100 == 0:\n",
    "            print (\"cost after iteration %i: %f\" %(i, cost))\n",
    "    \n",
    "    # **** save the values in a dictionary ****\n",
    "    params = {\"w\": w,\n",
    "              \"b\": b}\n",
    "    \n",
    "    # **** save the gradients in a dictionary ****\n",
    "    grads = {\"dw\": dw,\n",
    "             \"db\": db}\n",
    "    \n",
    "    # **** return values ****\n",
    "    return params, grads, costs"
   ]
  },
  {
   "cell_type": "code",
   "execution_count": 21,
   "metadata": {},
   "outputs": [
    {
     "name": "stdout",
     "output_type": "stream",
     "text": [
      " w:\n",
      "[[0.19033591]\n",
      " [0.12259159]]\n",
      " b: [1.92535983]\n",
      "dw:\n",
      "[[0.67752042]\n",
      " [1.41625495]]\n",
      "db: [0.2191945]\n"
     ]
    }
   ],
   "source": [
    "# **** test the optimize() function ****\n",
    "params, grads, costs = optimize(w, b, X, Y, num_iterations= 100, learning_rate = 0.009, print_cost = False)\n",
    "\n",
    "print (\" w:\\n\" + str(params[\"w\"]))\n",
    "print (\" b: \"  + str(params[\"b\"]))\n",
    "print (\"dw:\\n\" + str(grads[\"dw\"]))\n",
    "print (\"db: \"  + str(grads[\"db\"]))"
   ]
  },
  {
   "cell_type": "markdown",
   "metadata": {},
   "source": [
    "**Expected Output**: \n",
    "\n",
    "<table style=\"width:40%\">\n",
    "    <tr>\n",
    "       <td> **w** </td>\n",
    "       <td>[[ 0.1124579 ]\n",
    " [ 0.23106775]] </td>\n",
    "    </tr>\n",
    "    \n",
    "    <tr>\n",
    "       <td> **b** </td>\n",
    "       <td> 1.55930492484 </td>\n",
    "    </tr>\n",
    "    <tr>\n",
    "       <td> **dw** </td>\n",
    "       <td> [[ 0.90158428]\n",
    " [ 1.76250842]] </td>\n",
    "    </tr>\n",
    "    <tr>\n",
    "       <td> **db** </td>\n",
    "       <td> 0.430462071679 </td>\n",
    "    </tr>\n",
    "\n",
    "</table>"
   ]
  },
  {
   "cell_type": "markdown",
   "metadata": {},
   "source": [
    "**Exercise:** The previous function will output the learned w and b. We are able to use w and b to predict the labels for a dataset X. Implement the `predict()` function. There is two steps to computing predictions:\n",
    "\n",
    "1. Calculate $\\hat{Y} = A = \\sigma(w^T X + b)$\n",
    "\n",
    "2. Convert the entries of a into 0 (if activation <= 0.5) or 1 (if activation > 0.5), stores the predictions in a vector `Y_prediction`. If you wish, you can use an `if`/`else` statement in a `for` loop (though there is also a way to vectorize this). "
   ]
  },
  {
   "cell_type": "code",
   "execution_count": 22,
   "metadata": {},
   "outputs": [],
   "source": [
    "# **** predict() function ****\n",
    "def predict(w, b, X):\n",
    "    '''\n",
    "    Predict whether the label is 0 or 1 using learned logistic regression parameters (w, b)\n",
    "    \n",
    "    Arguments:\n",
    "    w -- weights, a numpy array of size (num_px * num_px * 3, 1)\n",
    "    b -- bias, a scalar\n",
    "    X -- data of size (num_px * num_px * 3, number of examples)\n",
    "    \n",
    "    Returns:\n",
    "    Y_prediction -- a numpy array (vector) containing all predictions (0/1) for the examples in X\n",
    "    '''\n",
    "    \n",
    "    # **** get ready to compute the predictions ****\n",
    "    m = X.shape[1]\n",
    "    Y_prediction = np.zeros((1,m))\n",
    "    w = w.reshape(X.shape[0], 1)\n",
    "    \n",
    "    # **** compute vector \"A\" predicting the probabilities of a cat being present in the picture ****\n",
    "    A = sigmoid(np.dot(w.T, X) + b)\n",
    "    \n",
    "    # **** loop once per sample ****\n",
    "    for i in range(A.shape[1]):\n",
    "        \n",
    "        # **** convert probabilities A[0,i] to actual predictions p[0,i] ****\n",
    "        Y_prediction[0,i] = np.where(A[0,i] > 0.5, 1, 0)\n",
    "\n",
    "    # **** check the shape of our predictions ****\n",
    "    assert(Y_prediction.shape == (1, m))\n",
    "    \n",
    "    # **** return our predictions ****\n",
    "    return Y_prediction"
   ]
  },
  {
   "cell_type": "code",
   "execution_count": 23,
   "metadata": {},
   "outputs": [
    {
     "name": "stdout",
     "output_type": "stream",
     "text": [
      "predictions: [[1. 1. 0.]]\n"
     ]
    }
   ],
   "source": [
    "# **** test predictions() function ****\n",
    "w = np.array([[0.1124579],[0.23106775]])\n",
    "b = -0.3\n",
    "X = np.array([[1., -1.1, -3.2],[1.2, 2., 0.1]])\n",
    "\n",
    "print(\"predictions: \" + str(predict(w, b, X)))"
   ]
  },
  {
   "cell_type": "markdown",
   "metadata": {},
   "source": [
    "**Expected Output**: \n",
    "\n",
    "<table style=\"width:30%\">\n",
    "    <tr>\n",
    "         <td>\n",
    "             **predictions**\n",
    "         </td>\n",
    "          <td>\n",
    "            [[ 1.  1.]]\n",
    "         </td>  \n",
    "   </tr>\n",
    "\n",
    "</table>\n"
   ]
  },
  {
   "cell_type": "markdown",
   "metadata": {},
   "source": [
    "<font color='blue'>\n",
    "**What to remember:**\n",
    "You've implemented several functions that:\n",
    "- Initialize (w,b)\n",
    "- Optimize the loss iteratively to learn parameters (w,b):\n",
    "    - computing the cost and its gradient \n",
    "    - updating the parameters using gradient descent\n",
    "- Use the learned (w,b) to predict the labels for a given set of examples"
   ]
  },
  {
   "cell_type": "markdown",
   "metadata": {},
   "source": [
    "## 5 - Merge all functions into a model ##\n",
    "\n",
    "You will now see how the overall model is structured by putting together all the building blocks (functions implemented in the previous parts) together, in the right order.\n",
    "\n",
    "**Exercise:** Implement the model function. Use the following notation:\n",
    "    - Y_prediction for your predictions on the test set\n",
    "    - Y_prediction_train for your predictions on the train set\n",
    "    - w, costs, grads for the outputs of optimize()"
   ]
  },
  {
   "cell_type": "code",
   "execution_count": 24,
   "metadata": {},
   "outputs": [],
   "source": [
    "# **** model function ****\n",
    "def model(X_train, Y_train, X_test, Y_test, num_iterations = 2000, learning_rate = 0.5, print_cost = False):\n",
    "    \"\"\"\n",
    "    Builds the logistic regression model by calling the function you've implemented previously\n",
    "    \n",
    "    Arguments:\n",
    "    X_train -- training set represented by a numpy array of shape (num_px * num_px * 3, m_train)\n",
    "    Y_train -- training labels represented by a numpy array (vector) of shape (1, m_train)\n",
    "    X_test -- test set represented by a numpy array of shape (num_px * num_px * 3, m_test)\n",
    "    Y_test -- test labels represented by a numpy array (vector) of shape (1, m_test)\n",
    "    num_iterations -- hyperparameter representing the number of iterations to optimize the parameters\n",
    "    learning_rate -- hyperparameter representing the learning rate used in the update rule of optimize()\n",
    "    print_cost -- Set to true to print the cost every 100 iterations\n",
    "    \n",
    "    Returns:\n",
    "    d -- dictionary containing information about the model.\n",
    "    \"\"\"\n",
    "    \n",
    "    # **** initialize parameters with zeros ****\n",
    "    w, b = initialize_with_zeros(X_train.shape[0])\n",
    "    \n",
    "    # **** compute the gradient descent ****\n",
    "    parameters, grads, costs = optimize(w, b, X_train, Y_train, num_iterations, learning_rate, print_cost)\n",
    "    \n",
    "    # **** retrieve parameters w and b from dictionary \"parameters\" ****\n",
    "    w = parameters[\"w\"]\n",
    "    b = parameters[\"b\"]\n",
    "    \n",
    "    # **** predict test / train set examples ****\n",
    "    Y_prediction_test  = predict(w, b, X_test)\n",
    "    Y_prediction_train = predict(w, b, X_train)\n",
    "\n",
    "    # **** print train / test errors ****\n",
    "    print(\"train accuracy: {} %\".format(100 - np.mean(np.abs(Y_prediction_train - Y_train)) * 100))\n",
    "    print(\" test accuracy: {} %\".format(100 - np.mean(np.abs(Y_prediction_test - Y_test)) * 100))\n",
    "    \n",
    "    # **** dictionary containing information about this model ****\n",
    "    d = {\"costs\": costs,\n",
    "         \"Y_prediction_test\": Y_prediction_test, \n",
    "         \"Y_prediction_train\" : Y_prediction_train, \n",
    "         \"w\" : w, \n",
    "         \"b\" : b,\n",
    "         \"learning_rate\" : learning_rate,\n",
    "         \"num_iterations\": num_iterations}\n",
    "    \n",
    "    # **** return dictionary with model information ****\n",
    "    return d"
   ]
  },
  {
   "cell_type": "markdown",
   "metadata": {},
   "source": [
    "Run the following cell to train your model."
   ]
  },
  {
   "cell_type": "code",
   "execution_count": 25,
   "metadata": {},
   "outputs": [
    {
     "name": "stdout",
     "output_type": "stream",
     "text": [
      "cost after iteration 0: 0.693147\n",
      "cost after iteration 100: 0.584508\n",
      "cost after iteration 200: 0.466949\n",
      "cost after iteration 300: 0.376007\n",
      "cost after iteration 400: 0.331463\n",
      "cost after iteration 500: 0.303273\n",
      "cost after iteration 600: 0.279880\n",
      "cost after iteration 700: 0.260042\n",
      "cost after iteration 800: 0.242941\n",
      "cost after iteration 900: 0.228004\n",
      "cost after iteration 1000: 0.214820\n",
      "cost after iteration 1100: 0.203078\n",
      "cost after iteration 1200: 0.192544\n",
      "cost after iteration 1300: 0.183033\n",
      "cost after iteration 1400: 0.174399\n",
      "cost after iteration 1500: 0.166521\n",
      "cost after iteration 1600: 0.159305\n",
      "cost after iteration 1700: 0.152667\n",
      "cost after iteration 1800: 0.146542\n",
      "cost after iteration 1900: 0.140872\n",
      "train accuracy: 99.04306220095694 %\n",
      " test accuracy: 70.0 %\n"
     ]
    }
   ],
   "source": [
    "# **** train our model ****\n",
    "d = model(train_set_x, train_set_y, test_set_x, test_set_y, num_iterations = 2000, learning_rate = 0.005, print_cost = True)"
   ]
  },
  {
   "cell_type": "code",
   "execution_count": 26,
   "metadata": {},
   "outputs": [
    {
     "name": "stdout",
     "output_type": "stream",
     "text": [
      "RIGHT\n",
      "index: 0 y: 1 y_prediction: 1\n",
      "RIGHT\n",
      "index: 1 y: 1 y_prediction: 1\n",
      "RIGHT\n",
      "index: 2 y: 1 y_prediction: 1\n",
      "RIGHT\n",
      "index: 3 y: 1 y_prediction: 1\n",
      "RIGHT\n",
      "index: 4 y: 1 y_prediction: 1\n",
      "WRONG\n",
      "index: 5 y: 0 y_prediction: 1\n",
      "WRONG\n",
      "index: 6 y: 1 y_prediction: 0\n",
      "RIGHT\n",
      "index: 7 y: 1 y_prediction: 1\n",
      "RIGHT\n",
      "index: 8 y: 1 y_prediction: 1\n",
      "RIGHT\n",
      "index: 9 y: 1 y_prediction: 1\n",
      "WRONG\n",
      "index: 10 y: 1 y_prediction: 0\n",
      "WRONG\n",
      "index: 11 y: 1 y_prediction: 0\n",
      "RIGHT\n",
      "index: 12 y: 1 y_prediction: 1\n",
      "WRONG\n",
      "index: 13 y: 0 y_prediction: 1\n",
      "RIGHT\n",
      "index: 14 y: 0 y_prediction: 0\n",
      "RIGHT\n",
      "index: 15 y: 1 y_prediction: 1\n",
      "RIGHT\n",
      "index: 16 y: 0 y_prediction: 0\n",
      "RIGHT\n",
      "index: 17 y: 1 y_prediction: 1\n",
      "WRONG\n",
      "index: 18 y: 1 y_prediction: 0\n",
      "WRONG\n",
      "index: 19 y: 1 y_prediction: 0\n",
      "RIGHT\n",
      "index: 20 y: 1 y_prediction: 1\n",
      "RIGHT\n",
      "index: 21 y: 0 y_prediction: 0\n",
      "RIGHT\n",
      "index: 22 y: 0 y_prediction: 0\n",
      "RIGHT\n",
      "index: 23 y: 1 y_prediction: 1\n",
      "RIGHT\n",
      "index: 24 y: 1 y_prediction: 1\n",
      "RIGHT\n",
      "index: 25 y: 1 y_prediction: 1\n",
      "RIGHT\n",
      "index: 26 y: 1 y_prediction: 1\n",
      "RIGHT\n",
      "index: 27 y: 0 y_prediction: 0\n",
      "WRONG\n",
      "index: 28 y: 1 y_prediction: 0\n",
      "WRONG\n",
      "index: 29 y: 0 y_prediction: 1\n",
      "WRONG\n",
      "index: 30 y: 1 y_prediction: 0\n",
      "RIGHT\n",
      "index: 31 y: 1 y_prediction: 1\n",
      "RIGHT\n",
      "index: 32 y: 1 y_prediction: 1\n",
      "WRONG\n",
      "index: 33 y: 1 y_prediction: 0\n",
      "WRONG\n",
      "index: 34 y: 0 y_prediction: 1\n",
      "RIGHT\n",
      "index: 35 y: 0 y_prediction: 0\n",
      "RIGHT\n",
      "index: 36 y: 0 y_prediction: 0\n",
      "RIGHT\n",
      "index: 37 y: 1 y_prediction: 1\n",
      "RIGHT\n",
      "index: 38 y: 0 y_prediction: 0\n",
      "RIGHT\n",
      "index: 39 y: 0 y_prediction: 0\n",
      "RIGHT\n",
      "index: 40 y: 1 y_prediction: 1\n",
      "WRONG\n",
      "index: 41 y: 1 y_prediction: 0\n",
      "RIGHT\n",
      "index: 42 y: 1 y_prediction: 1\n",
      "RIGHT\n",
      "index: 43 y: 0 y_prediction: 0\n",
      "WRONG\n",
      "index: 44 y: 0 y_prediction: 1\n",
      "RIGHT\n",
      "index: 45 y: 0 y_prediction: 0\n",
      "WRONG\n",
      "index: 46 y: 1 y_prediction: 0\n",
      "RIGHT\n",
      "index: 47 y: 1 y_prediction: 1\n",
      "RIGHT\n",
      "index: 48 y: 1 y_prediction: 1\n",
      "RIGHT\n",
      "index: 49 y: 0 y_prediction: 0\n",
      "wrong: 15\n"
     ]
    }
   ],
   "source": [
    "# **** display how images were classified ****\n",
    "wrong = 0\n",
    "for index in range(0, test_set_y.shape[1]):\n",
    "    if test_set_y[0, index] == d[\"Y_prediction_test\"][0,index]:\n",
    "        print(\"RIGHT\")\n",
    "    else:\n",
    "        print(\"WRONG\")\n",
    "        wrong += 1\n",
    "    \n",
    "    print(\"index: \" + str(index) + \" y: \" + str(test_set_y[0, index]) + \" y_prediction: \" + str(int(d[\"Y_prediction_test\"][0,index])))\n",
    "\n",
    "print(\"wrong: \" + str(wrong))"
   ]
  },
  {
   "cell_type": "markdown",
   "metadata": {},
   "source": [
    "**Comment**: Training accuracy is close to 100%. This is a good sanity check: your model is working and has high enough capacity to fit the training data. Test error is 68%. It is actually not bad for this simple model, given the small dataset we used and that logistic regression is a linear classifier. But no worries, you'll build an even better classifier next week!\n",
    "\n",
    "Also, you see that the model is clearly overfitting the training data. Later in this specialization you will learn how to reduce overfitting, for example by using regularization. Using the code below (and changing the `index` variable) you can look at predictions on pictures of the test set."
   ]
  },
  {
   "cell_type": "code",
   "execution_count": 27,
   "metadata": {
    "scrolled": true
   },
   "outputs": [
    {
     "data": {
      "text/plain": [
       "<matplotlib.image.AxesImage at 0x25725962ba8>"
      ]
     },
     "execution_count": 27,
     "metadata": {},
     "output_type": "execute_result"
    },
    {
     "data": {
      "image/png": "[encoded data removed]",
      "text/plain": [
       "<Figure size 432x288 with 1 Axes>"
      ]
     },
     "metadata": {
      "needs_background": "light"
     },
     "output_type": "display_data"
    }
   ],
   "source": [
    "# **** example of a picture that was wrongly classified ****\n",
    "index = 10\n",
    "plt.imshow(test_set_x[:,index].reshape((num_px, num_px, 3)))\n",
    "#print(\"y = \" + str(test_set_y[0, index]) + \", you predicted that it is a \\\"\" + classes[d[\"Y_prediction_test\"][0,index]].decode(\"utf-8\") +  \"\\\" picture.\")"
   ]
  },
  {
   "cell_type": "markdown",
   "metadata": {},
   "source": [
    "Let's also plot the cost function and the gradients."
   ]
  },
  {
   "cell_type": "code",
   "execution_count": 28,
   "metadata": {},
   "outputs": [
    {
     "data": {
      "image/png": "[encoded data removed]",
      "text/plain": [
       "<Figure size 432x288 with 1 Axes>"
      ]
     },
     "metadata": {
      "needs_background": "light"
     },
     "output_type": "display_data"
    }
   ],
   "source": [
    "# **** plot learning curve (with costs) ****\n",
    "costs = np.squeeze(d['costs'])\n",
    "plt.plot(costs)\n",
    "plt.ylabel('cost')\n",
    "plt.xlabel('iterations (per hundreds)')\n",
    "plt.title(\"Learning rate =\" + str(d[\"learning_rate\"]))\n",
    "plt.show()"
   ]
  },
  {
   "cell_type": "markdown",
   "metadata": {},
   "source": [
    "**Interpretation**:\n",
    "You can see the cost decreasing. It shows that the parameters are being learned. However, you see that you could train the model even more on the training set. Try to increase the number of iterations in the cell above and rerun the cells. You might see that the training set accuracy goes up, but the test set accuracy goes down. This is called overfitting. "
   ]
  },
  {
   "cell_type": "markdown",
   "metadata": {},
   "source": [
    "## 6 - Further analysis (optional/ungraded exercise) ##\n",
    "\n",
    "Congratulations on building your first image classification model. Let's analyze it further, and examine possible choices for the learning rate $\\alpha$. "
   ]
  },
  {
   "cell_type": "markdown",
   "metadata": {},
   "source": [
    "#### Choice of learning rate ####\n",
    "\n",
    "**Reminder**:\n",
    "In order for Gradient Descent to work you must choose the learning rate wisely. The learning rate $\\alpha$  determines how rapidly we update the parameters. If the learning rate is too large we may \"overshoot\" the optimal value. Similarly, if it is too small we will need too many iterations to converge to the best values. That's why it is crucial to use a well-tuned learning rate.\n",
    "\n",
    "Let's compare the learning curve of our model with several choices of learning rates. Run the cell below. This should take about 1 minute. Feel free also to try different values than the three we have initialized the `learning_rates` variable to contain, and see what happens. "
   ]
  },
  {
   "cell_type": "code",
   "execution_count": 29,
   "metadata": {},
   "outputs": [
    {
     "name": "stdout",
     "output_type": "stream",
     "text": [
      "learning rate is: 0.01\n",
      "train accuracy: 99.52153110047847 %\n",
      " test accuracy: 68.0 %\n",
      "\n",
      "-------------------------------------------------------\n",
      "\n",
      "learning rate is: 0.001\n",
      "train accuracy: 88.99521531100478 %\n",
      " test accuracy: 64.0 %\n",
      "\n",
      "-------------------------------------------------------\n",
      "\n",
      "learning rate is: 0.0001\n",
      "train accuracy: 68.42105263157895 %\n",
      " test accuracy: 36.0 %\n",
      "\n",
      "-------------------------------------------------------\n",
      "\n"
     ]
    },
    {
     "data": {
      "image/png": "[encoded data removed]",
      "text/plain": [
       "<Figure size 432x288 with 1 Axes>"
      ]
     },
     "metadata": {
      "needs_background": "light"
     },
     "output_type": "display_data"
    }
   ],
   "source": [
    "# **** try three different learning rates ****\n",
    "learning_rates = [0.01, 0.001, 0.0001]\n",
    "models = {}\n",
    "\n",
    "# **** populate the three models ****\n",
    "for i in learning_rates:\n",
    "    print (\"learning rate is: \" + str(i))\n",
    "    models[str(i)] = model(train_set_x, train_set_y, test_set_x, test_set_y, num_iterations = 1500, learning_rate = i, print_cost = False)\n",
    "    print ('\\n' + \"-------------------------------------------------------\" + '\\n')\n",
    "\n",
    "# **** display information about each model ****\n",
    "for i in learning_rates:\n",
    "    plt.plot(np.squeeze(models[str(i)][\"costs\"]), label= str(models[str(i)][\"learning_rate\"]))\n",
    "\n",
    "# **** plot the cost versus iteratiosn for the models ****\n",
    "plt.ylabel('cost')\n",
    "plt.xlabel('iterations')\n",
    "\n",
    "legend = plt.legend(loc='upper center', shadow=True)\n",
    "frame = legend.get_frame()\n",
    "frame.set_facecolor('0.90')\n",
    "plt.show()"
   ]
  },
  {
   "cell_type": "markdown",
   "metadata": {},
   "source": [
    "**Interpretation**: \n",
    "- Different learning rates give different costs and thus different predictions results.\n",
    "- If the learning rate is too large (0.01), the cost may oscillate up and down. It may even diverge (though in this example, using 0.01 still eventually ends up at a good value for the cost). \n",
    "- A lower cost doesn't mean a better model. You have to check if there is possibly overfitting. It happens when the training accuracy is a lot higher than the test accuracy.\n",
    "- In deep learning, we usually recommend that you: \n",
    "    - Choose the learning rate that better minimizes the cost function.\n",
    "    - If your model overfits, use other techniques to reduce overfitting. (We'll talk about this in later videos.) \n"
   ]
  },
  {
   "cell_type": "markdown",
   "metadata": {},
   "source": [
    "## 7 - Test with your own image (optional/ungraded exercise) ##\n",
    "\n",
    "Congratulations on finishing this assignment. You can use your own image and see the output of your model. To do that:\n",
    "    1. Click on \"File\" in the upper bar of this notebook, then click \"Open\" to go on your Coursera Hub.\n",
    "    2. Add your image to this Jupyter Notebook's directory, in the \"images\" folder\n",
    "    3. Change your image's name in the following code\n",
    "    4. Run the code and check if the algorithm is right (1 = cat, 0 = non-cat)!"
   ]
  },
  {
   "cell_type": "code",
   "execution_count": 30,
   "metadata": {
    "scrolled": false
   },
   "outputs": [
    {
     "name": "stderr",
     "output_type": "stream",
     "text": [
      "C:\\Users\\John\\Anaconda3\\lib\\site-packages\\skimage\\transform\\_warps.py:105: UserWarning: The default mode, 'constant', will be changed to 'reflect' in skimage 0.15.\n",
      "  warn(\"The default mode, 'constant', will be changed to 'reflect' in \"\n",
      "C:\\Users\\John\\Anaconda3\\lib\\site-packages\\skimage\\transform\\_warps.py:110: UserWarning: Anti-aliasing will be enabled by default in skimage 0.15 to avoid aliasing artifacts when down-sampling images.\n",
      "  warn(\"Anti-aliasing will be enabled by default in skimage 0.15 to \"\n"
     ]
    },
    {
     "name": "stdout",
     "output_type": "stream",
     "text": [
      "y = 0.0, your algorithm predicts a \"non-cat\" picture.\n"
     ]
    },
    {
     "data": {
      "image/png": "[encoded data removed]",
      "text/plain": [
       "<Figure size 432x288 with 1 Axes>"
      ]
     },
     "metadata": {
      "needs_background": "light"
     },
     "output_type": "display_data"
    }
   ],
   "source": [
    "# **** ****\n",
    "my_image = \"dog4.jpg\"        # change this to the name of your image file \n",
    "\n",
    "# **** preprocess the image to fit your algorithm ****\n",
    "fname = \"images/\" + my_image\n",
    "image = np.array(plt.imread(fname))\n",
    "my_image = skimage.transform.resize(image, output_shape=(num_px,num_px)).reshape((1, num_px*num_px*3)).T\n",
    "\n",
    "# **** ****\n",
    "my_predicted_image = predict(d[\"w\"], d[\"b\"], my_image)\n",
    "\n",
    "# **** ****\n",
    "plt.imshow(image)\n",
    "\n",
    "# **** ****\n",
    "print(\"y = \" + str(np.squeeze(my_predicted_image)) + \", your algorithm predicts a \\\"\" + classes[int(np.squeeze(my_predicted_image)),].decode(\"utf-8\") +  \"\\\" picture.\")"
   ]
  },
  {
   "cell_type": "markdown",
   "metadata": {},
   "source": [
    "<font color='blue'>\n",
    "**What to remember from this assignment:**\n",
    "1. Preprocessing the dataset is important.\n",
    "2. You implemented each function separately: initialize(), propagate(), optimize(). Then you built a model().\n",
    "3. Tuning the learning rate (which is an example of a \"hyperparameter\") can make a big difference to the algorithm. You will see more examples of this later in this course!"
   ]
  },
  {
   "cell_type": "markdown",
   "metadata": {},
   "source": [
    "Finally, if you'd like, we invite you to try different things on this Notebook. Make sure you submit before trying anything. Once you submit, things you can play with include:\n",
    "    - Play with the learning rate and the number of iterations\n",
    "    - Try different initialization methods and compare the results\n",
    "    - Test other preprocessings (center the data, or divide each row by its standard deviation)"
   ]
  },
  {
   "cell_type": "markdown",
   "metadata": {},
   "source": [
    "Bibliography:\n",
    "- http://www.wildml.com/2015/09/implementing-a-neural-network-from-scratch/\n",
    "- https://stats.stackexchange.com/questions/211436/why-do-we-normalize-images-by-subtracting-the-datasets-image-mean-and-not-the-c"
   ]
  },
  {
   "cell_type": "code",
   "execution_count": null,
   "metadata": {},
   "outputs": [],
   "source": []
  }
 ],
 "metadata": {
  "coursera": {
   "course_slug": "neural-networks-deep-learning",
   "graded_item_id": "XaIWT",
   "launcher_item_id": "zAgPl"
  },
  "kernelspec": {
   "display_name": "Python 3",
   "language": "python",
   "name": "python3"
  },
  "language_info": {
   "codemirror_mode": {
    "name": "ipython",
    "version": 3
   },
   "file_extension": ".py",
   "mimetype": "text/x-python",
   "name": "python",
   "nbconvert_exporter": "python",
   "pygments_lexer": "ipython3",
   "version": "3.7.1"
  },
  "toc": {
   "colors": {
    "hover_highlight": "#DAA520",
    "navigate_num": "#000000",
    "navigate_text": "#333333",
    "running_highlight": "#FF0000",
    "selected_highlight": "#FFD700",
    "sidebar_border": "#EEEEEE",
    "wrapper_background": "#FFFFFF"
   },
   "moveMenuLeft": true,
   "nav_menu": {
    "height": "279px",
    "width": "252px"
   },
   "navigate_menu": true,
   "number_sections": false,
   "sideBar": true,
   "threshold": 4,
   "toc_cell": true,
   "toc_section_display": "block",
   "toc_window_display": true,
   "widenNotebook": false
  }
 },
 "nbformat": 4,
 "nbformat_minor": 2
}
